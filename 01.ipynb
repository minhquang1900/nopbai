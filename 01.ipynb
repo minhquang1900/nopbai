{
 "cells": [
  {
   "cell_type": "code",
   "execution_count": 2,
   "id": "cba87653-437b-4fa8-b7c2-84387c4f87a5",
   "metadata": {
    "editable": true,
    "slideshow": {
     "slide_type": ""
    },
    "tags": []
   },
   "outputs": [
    {
     "name": "stdout",
     "output_type": "stream",
     "text": [
      "Requirement already satisfied: Pillow in c:\\users\\admin\\anaconda3\\lib\\site-packages (10.3.0)\n"
     ]
    }
   ],
   "source": [
    "!pip install Pillow"
   ]
  },
  {
   "cell_type": "code",
   "execution_count": 41,
   "id": "51db2219-14cc-4efd-abf1-c4e3c1ec2597",
   "metadata": {},
   "outputs": [],
   "source": [
    "from PIL import Image"
   ]
  },
  {
   "cell_type": "code",
   "execution_count": 43,
   "id": "f16dbde8-db9a-4b32-a1bc-e949848c6492",
   "metadata": {},
   "outputs": [],
   "source": [
    "dir = 'C:/Users/ADMIN/Documents/img/01'"
   ]
  },
  {
   "cell_type": "code",
   "execution_count": 45,
   "id": "b6e67a39-454f-401d-92c5-2c99b7374495",
   "metadata": {},
   "outputs": [
    {
     "name": "stdout",
     "output_type": "stream",
     "text": [
      "C:/Users/ADMIN/Documents/img/01/01.png\n"
     ]
    }
   ],
   "source": [
    "image_path = dir +'/01.png'\n",
    "print(image_path)"
   ]
  },
  {
   "cell_type": "code",
   "execution_count": 47,
   "id": "5b18d71c-643c-4631-ae27-6ae2e28d3d29",
   "metadata": {},
   "outputs": [],
   "source": [
    "img01 = Image.open(image_path)"
   ]
  },
  {
   "cell_type": "code",
   "execution_count": 49,
   "id": "c2473a9a-d57b-49c8-b2c7-6b4f309ed807",
   "metadata": {},
   "outputs": [
    {
     "data": {
      "image/png": "[encoded data removed]",
      "text/plain": [
       "<PIL.PngImagePlugin.PngImageFile image mode=P size=225x225>"
      ]
     },
     "metadata": {},
     "output_type": "display_data"
    }
   ],
   "source": [
    "display(img01)"
   ]
  },
  {
   "cell_type": "code",
   "execution_count": 51,
   "id": "1ae2b3a4-25d7-4041-b558-de5315b52bf3",
   "metadata": {},
   "outputs": [
    {
     "name": "stdout",
     "output_type": "stream",
     "text": [
      "Định dang ảnh:  PNG\n"
     ]
    }
   ],
   "source": [
    "print(\"Định dang ảnh: \", img01.format)"
   ]
  },
  {
   "cell_type": "code",
   "execution_count": 53,
   "id": "3f9830aa-be98-4e33-bf3f-fa3dddde91a4",
   "metadata": {},
   "outputs": [
    {
     "name": "stdout",
     "output_type": "stream",
     "text": [
      "Kích thước hình ảnh:  (225, 225)\n"
     ]
    }
   ],
   "source": [
    "print(\"Kích thước hình ảnh: \", img01.size)"
   ]
  },
  {
   "cell_type": "code",
   "execution_count": 60,
   "id": "4ad3c5f6-102b-4545-a99b-129ac989ddbf",
   "metadata": {},
   "outputs": [],
   "source": [
    "from PIL import Image\n",
    "\n",
    "\n",
    "img_path = dir + '/01.png'\n",
    "img01 = Image.open(img_path)\n",
    "\n",
    "\n",
    "img01 = img01.convert(\"RGB\")\n",
    "\n",
    "new_img_01_path = dir + '/new_01.PNG'\n",
    "new_img_jpg_01_path = dir + '/new_01.JPG'\n",
    "img01.save(new_img_01_path) \n",
    "img01.save(new_img_jpg_01_path) "
   ]
  },
  {
   "cell_type": "code",
   "execution_count": null,
   "id": "725abac6-8d1f-4d06-9721-5e894f424b88",
   "metadata": {},
   "outputs": [],
   "source": []
  }
 ],
 "metadata": {
  "kernelspec": {
   "display_name": "Python 3 (ipykernel)",
   "language": "python",
   "name": "python3"
  },
  "language_info": {
   "codemirror_mode": {
    "name": "ipython",
    "version": 3
   },
   "file_extension": ".py",
   "mimetype": "text/x-python",
   "name": "python",
   "nbconvert_exporter": "python",
   "pygments_lexer": "ipython3",
   "version": "3.12.4"
  }
 },
 "nbformat": 4,
 "nbformat_minor": 5
}
